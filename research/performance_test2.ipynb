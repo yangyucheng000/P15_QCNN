{
 "cells": [
  {
   "cell_type": "markdown",
   "metadata": {},
   "source": [
    "# QCNN性能测试2"
   ]
  },
  {
   "cell_type": "markdown",
   "metadata": {},
   "source": [
    "Training with data for 0.5 < Γ and Γ > 1.5"
   ]
  },
  {
   "cell_type": "code",
   "execution_count": 1,
   "metadata": {
    "collapsed": true
   },
   "outputs": [],
   "source": [
    "import numpy as np\n",
    "import mindspore as ms\n",
    "from mindspore.dataset import NumpySlicesDataset\n",
    "from mindspore.train.callback import LossMonitor, Callback\n",
    "from src.dataset import build_dataset\n",
    "from src.qcnn import QCNNet\n",
    "ms.set_context(mode=ms.PYNATIVE_MODE, device_target=\"CPU\")"
   ]
  },
  {
   "cell_type": "markdown",
   "metadata": {},
   "source": [
    "#### N=4"
   ]
  },
  {
   "cell_type": "code",
   "execution_count": 4,
   "metadata": {},
   "outputs": [
    {
     "data": {
      "text/plain": [
       "(30, 4)"
      ]
     },
     "execution_count": 4,
     "metadata": {},
     "output_type": "execute_result"
    }
   ],
   "source": [
    "N = 4\n",
    "path = './TFI_chain/closed/'\n",
    "encoder, encoder_params_name, x, y = build_dataset(N, path)\n",
    "x = x[y!=0]\n",
    "y = y[y!=0]\n",
    "x_train = np.concatenate((x[:15], x[65:]))\n",
    "y_train = np.array([-1]*15+[1]*15)\n",
    "x_train.shape"
   ]
  },
  {
   "cell_type": "code",
   "execution_count": 5,
   "metadata": {
    "collapsed": true
   },
   "outputs": [],
   "source": [
    "from mindspore.train.callback import Callback\n",
    "class StepAcc(Callback):\n",
    "    def __init__(self, model, test_x, test_y):\n",
    "        self.model = model\n",
    "        self.test_x = test_x\n",
    "        self.test_y = test_y.flatten()\n",
    "        self.acc = []\n",
    "\n",
    "    def step_end(self, run_context):\n",
    "        pred_y = self.model.predict(self.test_x)\n",
    "        self.acc.append((self.test_y == pred_y).mean())"
   ]
  },
  {
   "cell_type": "code",
   "execution_count": 6,
   "metadata": {},
   "outputs": [
    {
     "name": "stdout",
     "output_type": "stream",
     "text": [
      "epoch: 1 step: 1, loss is 0.7433044910430908\n",
      "epoch: 2 step: 1, loss is 0.6581213474273682\n",
      "epoch: 3 step: 1, loss is 0.6380529403686523\n",
      "epoch: 4 step: 1, loss is 0.6130697727203369\n",
      "epoch: 5 step: 1, loss is 0.5836294889450073\n",
      "epoch: 6 step: 1, loss is 0.5833531618118286\n",
      "epoch: 7 step: 1, loss is 0.5892293453216553\n",
      "epoch: 8 step: 1, loss is 0.5827130079269409\n",
      "epoch: 9 step: 1, loss is 0.5696002840995789\n",
      "epoch: 10 step: 1, loss is 0.5626639723777771\n",
      "epoch: 11 step: 1, loss is 0.5628583431243896\n",
      "epoch: 12 step: 1, loss is 0.5646248459815979\n",
      "epoch: 13 step: 1, loss is 0.5647491216659546\n",
      "epoch: 14 step: 1, loss is 0.5648906826972961\n",
      "epoch: 15 step: 1, loss is 0.5664368867874146\n",
      "epoch: 16 step: 1, loss is 0.5647938251495361\n",
      "epoch: 17 step: 1, loss is 0.559933602809906\n",
      "epoch: 18 step: 1, loss is 0.5556755065917969\n",
      "epoch: 19 step: 1, loss is 0.553419291973114\n",
      "epoch: 20 step: 1, loss is 0.553244411945343\n",
      "epoch: 21 step: 1, loss is 0.5543888807296753\n",
      "epoch: 22 step: 1, loss is 0.5552183985710144\n",
      "epoch: 23 step: 1, loss is 0.5545576810836792\n",
      "epoch: 24 step: 1, loss is 0.5529372096061707\n",
      "epoch: 25 step: 1, loss is 0.5517362952232361\n",
      "epoch: 26 step: 1, loss is 0.5513984560966492\n",
      "epoch: 27 step: 1, loss is 0.5514139533042908\n",
      "epoch: 28 step: 1, loss is 0.5512989163398743\n",
      "epoch: 29 step: 1, loss is 0.5508679151535034\n",
      "epoch: 30 step: 1, loss is 0.5501349568367004\n",
      "epoch: 31 step: 1, loss is 0.5493615865707397\n",
      "epoch: 32 step: 1, loss is 0.5489398241043091\n",
      "epoch: 33 step: 1, loss is 0.548984944820404\n",
      "epoch: 34 step: 1, loss is 0.5491895079612732\n",
      "epoch: 35 step: 1, loss is 0.5491256713867188\n",
      "epoch: 36 step: 1, loss is 0.5486328601837158\n",
      "epoch: 37 step: 1, loss is 0.5479310750961304\n",
      "epoch: 38 step: 1, loss is 0.547434389591217\n",
      "epoch: 39 step: 1, loss is 0.5473116636276245\n",
      "epoch: 40 step: 1, loss is 0.5474036931991577\n",
      "epoch: 41 step: 1, loss is 0.5475220084190369\n",
      "epoch: 42 step: 1, loss is 0.5475460886955261\n",
      "epoch: 43 step: 1, loss is 0.5474080443382263\n",
      "epoch: 44 step: 1, loss is 0.5471756458282471\n",
      "epoch: 45 step: 1, loss is 0.5469918847084045\n",
      "epoch: 46 step: 1, loss is 0.5468665957450867\n",
      "epoch: 47 step: 1, loss is 0.5467292666435242\n",
      "epoch: 48 step: 1, loss is 0.5466287136077881\n",
      "epoch: 49 step: 1, loss is 0.5465863347053528\n",
      "epoch: 50 step: 1, loss is 0.546513020992279\n",
      "epoch: 51 step: 1, loss is 0.5464389324188232\n",
      "epoch: 52 step: 1, loss is 0.546450674533844\n",
      "epoch: 53 step: 1, loss is 0.5464589595794678\n",
      "epoch: 54 step: 1, loss is 0.5463698506355286\n",
      "epoch: 55 step: 1, loss is 0.5462759733200073\n",
      "epoch: 56 step: 1, loss is 0.5462359189987183\n",
      "epoch: 57 step: 1, loss is 0.5461703538894653\n",
      "epoch: 58 step: 1, loss is 0.5460861325263977\n",
      "epoch: 59 step: 1, loss is 0.5460558533668518\n",
      "epoch: 60 step: 1, loss is 0.5460233092308044\n",
      "epoch: 61 step: 1, loss is 0.5459266304969788\n",
      "epoch: 62 step: 1, loss is 0.5458325743675232\n",
      "epoch: 63 step: 1, loss is 0.5457789301872253\n",
      "epoch: 64 step: 1, loss is 0.5457282662391663\n",
      "epoch: 65 step: 1, loss is 0.545686662197113\n",
      "epoch: 66 step: 1, loss is 0.5456666946411133\n",
      "epoch: 67 step: 1, loss is 0.5456292629241943\n",
      "epoch: 68 step: 1, loss is 0.545570433139801\n",
      "epoch: 69 step: 1, loss is 0.5455271601676941\n",
      "epoch: 70 step: 1, loss is 0.5454967617988586\n",
      "epoch: 71 step: 1, loss is 0.5454595685005188\n",
      "epoch: 72 step: 1, loss is 0.5454220175743103\n",
      "epoch: 73 step: 1, loss is 0.5453910231590271\n",
      "epoch: 74 step: 1, loss is 0.5453634858131409\n",
      "epoch: 75 step: 1, loss is 0.5453347563743591\n",
      "epoch: 76 step: 1, loss is 0.5453025102615356\n",
      "epoch: 77 step: 1, loss is 0.5452763438224792\n",
      "epoch: 78 step: 1, loss is 0.545257031917572\n",
      "epoch: 79 step: 1, loss is 0.5452347993850708\n",
      "epoch: 80 step: 1, loss is 0.5452158451080322\n",
      "epoch: 81 step: 1, loss is 0.5452042818069458\n",
      "epoch: 82 step: 1, loss is 0.5451886057853699\n",
      "epoch: 83 step: 1, loss is 0.5451725721359253\n",
      "epoch: 84 step: 1, loss is 0.5451619029045105\n",
      "epoch: 85 step: 1, loss is 0.545149028301239\n",
      "epoch: 86 step: 1, loss is 0.5451371073722839\n",
      "epoch: 87 step: 1, loss is 0.5451317429542542\n",
      "epoch: 88 step: 1, loss is 0.5451260805130005\n",
      "epoch: 89 step: 1, loss is 0.5451175570487976\n",
      "epoch: 90 step: 1, loss is 0.5451099276542664\n",
      "epoch: 91 step: 1, loss is 0.5451042652130127\n",
      "epoch: 92 step: 1, loss is 0.5451012253761292\n",
      "epoch: 93 step: 1, loss is 0.5450998544692993\n",
      "epoch: 94 step: 1, loss is 0.5450974702835083\n",
      "epoch: 95 step: 1, loss is 0.5450935363769531\n",
      "epoch: 96 step: 1, loss is 0.545089840888977\n",
      "epoch: 97 step: 1, loss is 0.5450883507728577\n",
      "epoch: 98 step: 1, loss is 0.5450876951217651\n",
      "epoch: 99 step: 1, loss is 0.5450857877731323\n",
      "epoch: 100 step: 1, loss is 0.5450834631919861\n"
     ]
    }
   ],
   "source": [
    "batch = 30\n",
    "epoch = 100\n",
    "ms.set_seed(1202)\n",
    "model = QCNNet(N, encoder)\n",
    "y_train = y_train.reshape((y_train.shape[0], -1))\n",
    "train_loader = NumpySlicesDataset({'features': x_train, 'labels': y_train}, shuffle=False).batch(batch)\n",
    "monitor = LossMonitor(1)\n",
    "acc = StepAcc(model, x, y)\n",
    "callbacks=[monitor, acc]\n",
    "model.train(epoch, train_loader, callbacks)"
   ]
  },
  {
   "cell_type": "code",
   "execution_count": 9,
   "metadata": {},
   "outputs": [
    {
     "data": {
      "image/png": "[encoded data removed]",
      "text/plain": [
       "<Figure size 432x288 with 1 Axes>"
      ]
     },
     "metadata": {
      "needs_background": "light"
     },
     "output_type": "display_data"
    }
   ],
   "source": [
    "import matplotlib.pyplot as plt\n",
    "plt.plot(range(len(acc.acc)), acc.acc)\n",
    "plt.xlabel('epoch')\n",
    "plt.ylabel('acc')\n",
    "plt.title('N=4')\n",
    "plt.show()"
   ]
  },
  {
   "cell_type": "markdown",
   "metadata": {},
   "source": [
    "反正loss和acc都挺收敛的，看上去似乎有点过拟合了~"
   ]
  },
  {
   "cell_type": "code",
   "execution_count": 8,
   "metadata": {},
   "outputs": [
    {
     "data": {
      "image/png": "[encoded data removed]",
      "text/plain": [
       "<Figure size 432x288 with 1 Axes>"
      ]
     },
     "metadata": {
      "needs_background": "light"
     },
     "output_type": "display_data"
    }
   ],
   "source": [
    "_, _, x, y = build_dataset(N, path, 3)\n",
    "pred_y = model.predict(x)\n",
    "plt.plot(np.linspace(0.2,1.8,pred_y.shape[0]), pred_y)\n",
    "plt.title('N=4(batch=30, epoch=100)')\n",
    "plt.ylabel('predicted labels')\n",
    "plt.xlabel('g')\n",
    "plt.show()"
   ]
  },
  {
   "cell_type": "markdown",
   "metadata": {},
   "source": [
    "还挺好"
   ]
  },
  {
   "cell_type": "markdown",
   "metadata": {},
   "source": [
    "#### N=8"
   ]
  },
  {
   "cell_type": "code",
   "execution_count": 10,
   "metadata": {},
   "outputs": [
    {
     "name": "stdout",
     "output_type": "stream",
     "text": [
      "epoch: 10 step: 1, loss is 0.5315335392951965\n",
      "epoch: 20 step: 1, loss is 0.5086298584938049\n",
      "epoch: 30 step: 1, loss is 0.4959692060947418\n",
      "epoch: 40 step: 1, loss is 0.486843466758728\n",
      "epoch: 50 step: 1, loss is 0.47491976618766785\n"
     ]
    }
   ],
   "source": [
    "N = 8\n",
    "path = './TFI_chain/closed/'\n",
    "encoder, encoder_params_name, x, y = build_dataset(N, path)\n",
    "x = x[y!=0]\n",
    "y = y[y!=0]\n",
    "x_train = np.concatenate((x[:15], x[65:]))\n",
    "y_train = np.array([-1]*15+[1]*15)\n",
    "batch = 30\n",
    "epoch = 50 # 这次少点~\n",
    "ms.set_seed(1202)\n",
    "model = QCNNet(N, encoder)\n",
    "y_train = y_train.reshape((y_train.shape[0], -1))\n",
    "train_loader = NumpySlicesDataset({'features': x_train, 'labels': y_train}, shuffle=False).batch(batch)\n",
    "monitor = LossMonitor(10)\n",
    "acc = StepAcc(model, x, y)\n",
    "callbacks=[monitor, acc]\n",
    "model.train(epoch, train_loader, callbacks)"
   ]
  },
  {
   "cell_type": "code",
   "execution_count": 11,
   "metadata": {},
   "outputs": [
    {
     "data": {
      "image/png": "[encoded data removed]",
      "text/plain": [
       "<Figure size 432x288 with 1 Axes>"
      ]
     },
     "metadata": {
      "needs_background": "light"
     },
     "output_type": "display_data"
    }
   ],
   "source": [
    "plt.plot(range(len(acc.acc)), acc.acc)\n",
    "plt.xlabel('epoch')\n",
    "plt.ylabel('acc')\n",
    "plt.title('N=8')\n",
    "plt.show()"
   ]
  },
  {
   "cell_type": "code",
   "execution_count": 12,
   "metadata": {},
   "outputs": [
    {
     "data": {
      "image/png": "[encoded data removed]",
      "text/plain": [
       "<Figure size 432x288 with 1 Axes>"
      ]
     },
     "metadata": {
      "needs_background": "light"
     },
     "output_type": "display_data"
    }
   ],
   "source": [
    "_, _, x, y = build_dataset(N, path, 2)\n",
    "pred_y = model.predict(x)\n",
    "plt.plot(np.linspace(0.2,1.8,pred_y.shape[0]), pred_y)\n",
    "plt.title('N=8(batch=30, epoch=50)')\n",
    "plt.ylabel('predicted labels')\n",
    "plt.xlabel('g')\n",
    "plt.show()"
   ]
  },
  {
   "cell_type": "markdown",
   "metadata": {},
   "source": [
    "。。。\n",
    "epoch取个2试试"
   ]
  },
  {
   "cell_type": "code",
   "execution_count": 13,
   "metadata": {},
   "outputs": [
    {
     "name": "stdout",
     "output_type": "stream",
     "text": [
      "epoch: 1 step: 1, loss is 0.6604666113853455\n",
      "epoch: 2 step: 1, loss is 0.6270714402198792\n"
     ]
    },
    {
     "data": {
      "image/png": "[encoded data removed]",
      "text/plain": [
       "<Figure size 432x288 with 1 Axes>"
      ]
     },
     "metadata": {
      "needs_background": "light"
     },
     "output_type": "display_data"
    }
   ],
   "source": [
    "N = 8\n",
    "path = './TFI_chain/closed/'\n",
    "encoder, encoder_params_name, x, y = build_dataset(N, path)\n",
    "x = x[y!=0]\n",
    "y = y[y!=0]\n",
    "x_train = np.concatenate((x[:15], x[65:]))\n",
    "y_train = np.array([-1]*15+[1]*15)\n",
    "batch = 30\n",
    "epoch = 2\n",
    "ms.set_seed(1202)\n",
    "model = QCNNet(N, encoder)\n",
    "y_train = y_train.reshape((y_train.shape[0], -1))\n",
    "train_loader = NumpySlicesDataset({'features': x_train, 'labels': y_train}, shuffle=False).batch(batch)\n",
    "monitor = LossMonitor(1)\n",
    "callbacks=[monitor]\n",
    "model.train(epoch, train_loader, callbacks)\n",
    "_, _, x, y = build_dataset(N, path, 2)\n",
    "pred_y = model.predict(x)\n",
    "plt.plot(np.linspace(0.2,1.8,pred_y.shape[0]), pred_y)\n",
    "plt.title('N=8(batch=30, epoch=2)')\n",
    "plt.ylabel('predicted labels')\n",
    "plt.xlabel('g')\n",
    "plt.show()"
   ]
  },
  {
   "cell_type": "markdown",
   "metadata": {},
   "source": [
    "很好很好"
   ]
  },
  {
   "cell_type": "markdown",
   "metadata": {},
   "source": [
    "#### N=12"
   ]
  },
  {
   "cell_type": "code",
   "execution_count": 16,
   "metadata": {},
   "outputs": [
    {
     "name": "stdout",
     "output_type": "stream",
     "text": [
      "epoch: 1 step: 1, loss is 0.6997095942497253\n",
      "epoch: 2 step: 1, loss is 0.6937258839607239\n",
      "epoch: 3 step: 1, loss is 0.6671553254127502\n",
      "epoch: 4 step: 1, loss is 0.6626603603363037\n",
      "epoch: 5 step: 1, loss is 0.6395025849342346\n",
      "epoch: 6 step: 1, loss is 0.6295544505119324\n",
      "epoch: 7 step: 1, loss is 0.6101098656654358\n",
      "epoch: 8 step: 1, loss is 0.6068440079689026\n",
      "epoch: 9 step: 1, loss is 0.6036085486412048\n",
      "epoch: 10 step: 1, loss is 0.5963594913482666\n"
     ]
    }
   ],
   "source": [
    "N = 12\n",
    "path = './TFI_chain/closed/'\n",
    "encoder, encoder_params_name, x, y = build_dataset(N, path)\n",
    "x = x[y!=0]\n",
    "y = y[y!=0]\n",
    "x_train = np.concatenate((x[:15], x[65:]))\n",
    "y_train = np.array([-1]*15+[1]*15)\n",
    "batch = 30\n",
    "epoch = 10 # 跑个10意思一下\n",
    "ms.set_seed(1202)\n",
    "model = QCNNet(N, encoder)\n",
    "y_train = y_train.reshape((y_train.shape[0], -1))\n",
    "train_loader = NumpySlicesDataset({'features': x_train, 'labels': y_train}, shuffle=False).batch(batch)\n",
    "monitor = LossMonitor(1)\n",
    "acc = StepAcc(model, x, y)\n",
    "callbacks=[monitor, acc]\n",
    "model.train(epoch, train_loader, callbacks)"
   ]
  },
  {
   "cell_type": "code",
   "execution_count": 17,
   "metadata": {},
   "outputs": [
    {
     "data": {
      "image/png": "[encoded data removed]",
      "text/plain": [
       "<Figure size 432x288 with 1 Axes>"
      ]
     },
     "metadata": {
      "needs_background": "light"
     },
     "output_type": "display_data"
    }
   ],
   "source": [
    "plt.plot(range(len(acc.acc)), acc.acc)\n",
    "plt.xlabel('epoch')\n",
    "plt.ylabel('acc')\n",
    "plt.title('N=12')\n",
    "plt.show()"
   ]
  },
  {
   "cell_type": "code",
   "execution_count": 18,
   "metadata": {},
   "outputs": [
    {
     "data": {
      "image/png": "[encoded data removed]",
      "text/plain": [
       "<Figure size 432x288 with 1 Axes>"
      ]
     },
     "metadata": {
      "needs_background": "light"
     },
     "output_type": "display_data"
    }
   ],
   "source": [
    "_, _, x, y = build_dataset(N, path, 2)\n",
    "pred_y = model.predict(x)\n",
    "plt.plot(np.linspace(0.2,1.8,pred_y.shape[0]), pred_y)\n",
    "plt.title('N=8(batch=30, epoch=10)')\n",
    "plt.ylabel('predicted labels')\n",
    "plt.xlabel('g')\n",
    "plt.show()"
   ]
  },
  {
   "cell_type": "markdown",
   "metadata": {},
   "source": [
    "## 结论"
   ]
  },
  {
   "cell_type": "markdown",
   "metadata": {},
   "source": [
    "我们可以通过QCNN推断出TFIM的量子相变临界点的Γ的值。"
   ]
  },
  {
   "cell_type": "code",
   "execution_count": null,
   "metadata": {
    "collapsed": true
   },
   "outputs": [],
   "source": []
  }
 ],
 "metadata": {
  "kernelspec": {
   "display_name": "Qm37",
   "language": "python",
   "name": "qm37"
  },
  "language_info": {
   "codemirror_mode": {
    "name": "ipython",
    "version": 3
   },
   "file_extension": ".py",
   "mimetype": "text/x-python",
   "name": "python",
   "nbconvert_exporter": "python",
   "pygments_lexer": "ipython3",
   "version": "3.7.12"
  }
 },
 "nbformat": 4,
 "nbformat_minor": 2
}
